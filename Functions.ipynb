{
 "cells": [
  {
   "cell_type": "code",
   "execution_count": 1,
   "id": "e8a7117d",
   "metadata": {},
   "outputs": [],
   "source": [
    "#Notebook containing any recurring functions I've created for import into other notebooks\n",
    "#Author: tdrown@hardinet.org\n",
    "import os\n",
    "import numpy as np\n",
    "import pandas as pd\n",
    "import statsmodels.api as sm\n",
    "from statsmodels.tsa.stattools import adfuller\n",
    "import matplotlib.pyplot as plt\n",
    "from sklearn.linear_model import LinearRegression\n",
    "from sklearn.preprocessing import PolynomialFeatures\n",
    "from sklearn.metrics import mean_squared_error, r2_score\n",
    "from statsmodels.tsa.statespace.sarimax import SARIMAX\n",
    "from sklearn.metrics import mean_squared_error"
   ]
  },
  {
   "cell_type": "code",
   "execution_count": 2,
   "id": "e808261e",
   "metadata": {},
   "outputs": [],
   "source": [
    "def check_adf(time_series):\n",
    "    test_result = adfuller(time_series)\n",
    "    print('ADF Test:')\n",
    "    labels = ['ADF Statistic', 'p-value', 'No. of Lags Used', 'Number of Obs']\n",
    "\n",
    "    for value,label in zip(test_result,labels):\n",
    "        print (label+r':'+str(value))\n",
    "    if test_result[1] <= 0.05:\n",
    "        print (\"Reject null hypothesis and data is stationary\")\n",
    "    else:\n",
    "        print (\"Fail to reject H0 thereby data is non-stationary\")"
   ]
  }
 ],
 "metadata": {
  "kernelspec": {
   "display_name": "Python 3 (ipykernel)",
   "language": "python",
   "name": "python3"
  },
  "language_info": {
   "codemirror_mode": {
    "name": "ipython",
    "version": 3
   },
   "file_extension": ".py",
   "mimetype": "text/x-python",
   "name": "python",
   "nbconvert_exporter": "python",
   "pygments_lexer": "ipython3",
   "version": "3.9.13"
  }
 },
 "nbformat": 4,
 "nbformat_minor": 5
}
